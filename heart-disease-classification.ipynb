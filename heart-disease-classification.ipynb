{
 "cells": [
  {
   "cell_type": "markdown",
   "id": "06f91f34-7726-4baa-a078-c33e4b1a38a8",
   "metadata": {},
   "source": [
    "# Predicting heart disease using ML and patient medical attributes\n",
    "\n",
    "1. Problem definition\n",
    "2. Data\n",
    "3. Evaluation\n",
    "4. Features\n",
    "5. Modelling\n",
    "6. Experimentation"
   ]
  },
  {
   "cell_type": "markdown",
   "id": "62d0b0c6-4283-4ea6-859c-c817ec7b19ff",
   "metadata": {},
   "source": [
    "## 1. Problem Definition\n",
    "> Given clinical parameters about a patient, can we predict whether or not they have heart disease?"
   ]
  },
  {
   "cell_type": "markdown",
   "id": "2ead2900-b855-4ad3-b414-d06e62f80083",
   "metadata": {},
   "source": [
    "## 2. Data\n",
    "> https://archive.ics.uci.edu/dataset/45/heart+disease"
   ]
  },
  {
   "cell_type": "markdown",
   "id": "9211d709-9889-4e93-9750-3bf9e4c95e1d",
   "metadata": {},
   "source": [
    "## 3. Evaluation\n",
    "\n",
    "> If we can reach 95% accuracy at predicting whether or not a patient has heart disease during PoC."
   ]
  },
  {
   "cell_type": "markdown",
   "id": "1eaa56ca-ea86-4c08-a631-30b1ea36906d",
   "metadata": {},
   "source": [
    "## 4. Features\n",
    "\n",
    "* age \n",
    "* sex\n",
    "* chest pain type (4 values)\n",
    "* resting blood pressure\n",
    "* serum cholestoral in mg/dl\n",
    "* fasting blood sugar > 120 mg/dl\n",
    "* resting electrocardiographic results (values 0,1,2)\n",
    "* maximum heart rate achieved\n",
    "* exercise induced angina\n",
    "* oldpeak = ST depression induced by exercise relative to rest\n",
    "* the slope of the peak exercise ST segment\n",
    "* number of major vessels (0-3) colored by flourosopy\n",
    "* thal: 0 = normal; 1 = fixed defect; 2 = reversable defect\n",
    "* target 0 or 1"
   ]
  },
  {
   "cell_type": "code",
   "execution_count": null,
   "id": "a038472e-8632-4707-aecf-c3976b1ddb57",
   "metadata": {},
   "outputs": [],
   "source": []
  }
 ],
 "metadata": {
  "kernelspec": {
   "display_name": "Python 3 (ipykernel)",
   "language": "python",
   "name": "python3"
  },
  "language_info": {
   "codemirror_mode": {
    "name": "ipython",
    "version": 3
   },
   "file_extension": ".py",
   "mimetype": "text/x-python",
   "name": "python",
   "nbconvert_exporter": "python",
   "pygments_lexer": "ipython3",
   "version": "3.12.5"
  }
 },
 "nbformat": 4,
 "nbformat_minor": 5
}
